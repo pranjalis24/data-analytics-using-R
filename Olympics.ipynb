{
  "nbformat": 4,
  "nbformat_minor": 0,
  "metadata": {
    "colab": {
      "provenance": []
    },
    "kernelspec": {
      "name": "ir",
      "display_name": "R"
    },
    "language_info": {
      "name": "R"
    }
  },
  "cells": [
    {
      "cell_type": "markdown",
      "source": [
        "#OLYMPIC ANALYSIS \n",
        "### By Pranjali Singh\n",
        "In order for Kellogg to sponsor the right sport, a research analysis on the sport is required. This research analysis aims at identifying the right sport for them to sponsor. The study will involve checking on the sports that will participate in the Olympics and analyzing them in details to get the one with the highest value of good returns. To determine which sport is best suited to sponsor, the study will study the different sports and their evolution with time. It will look at different sports from different geographical area and the record their hold. Also, the study will involve analyzing the athletes who will take part in the Olympic. The best athlete will be pinpointed which the company can decide to sponsor. The study will compare the different character traits of the athletes to make a defined conclusion. This will include things such as the awards the athletes have one, their country of origin, their physical statures, age and sex. The study will analyze the number of medals each athlete has gained and their age to give a better analysis. The analysis will include some data exploration to describe the provided data. Data visualization will also be conducted. At the end recommendations to the company’s executives regarding the athlete to sponsor will be provided. The right choice will as a result aid the company positively in many sectors. Kellogg’s will be able to develop a halo effect with their customer base and also encourage brand loyalty."
      ],
      "metadata": {
        "id": "iFz1qejf68XJ"
      }
    },
    {
      "cell_type": "markdown",
      "source": [
        "## DATA **EXPLORATION** \n",
        "The four different aspects of the data selected are sex, age, weight and height."
      ],
      "metadata": {
        "id": "PFrQhYrU7Wln"
      }
    },
    {
      "cell_type": "markdown",
      "source": [
        "#Importing data to Rstudio\n",
        "athlete_events=read.csv(\"/content/athlete_events.csv\")\n",
        "head(athlete_events)\n"
      ],
      "metadata": {
        "id": "uKRiZOBA6lpB"
      }
    },
    {
      "cell_type": "code",
      "source": [
        "#Summary of data \n",
        "summary(athlete_events)"
      ],
      "metadata": {
        "colab": {
          "base_uri": "https://localhost:8080/",
          "height": 598
        },
        "id": "AAWWUsOb9DXk",
        "outputId": "373a63d8-1b32-4c6d-a598-8e6035dc0fff"
      },
      "execution_count": 12,
      "outputs": [
        {
          "output_type": "display_data",
          "data": {
            "text/plain": [
              "       ID             Name               Sex                 Age       \n",
              " Min.   :     1   Length:271116      Length:271116      Min.   :10.00  \n",
              " 1st Qu.: 34643   Class :character   Class :character   1st Qu.:21.00  \n",
              " Median : 68205   Mode  :character   Mode  :character   Median :24.00  \n",
              " Mean   : 68249                                         Mean   :25.56  \n",
              " 3rd Qu.:102097                                         3rd Qu.:28.00  \n",
              " Max.   :135571                                         Max.   :97.00  \n",
              "                                                        NA's   :9474   \n",
              "     Height          Weight          Team               NOC           \n",
              " Min.   :127.0   Min.   : 25.0   Length:271116      Length:271116     \n",
              " 1st Qu.:168.0   1st Qu.: 60.0   Class :character   Class :character  \n",
              " Median :175.0   Median : 70.0   Mode  :character   Mode  :character  \n",
              " Mean   :175.3   Mean   : 70.7                                        \n",
              " 3rd Qu.:183.0   3rd Qu.: 79.0                                        \n",
              " Max.   :226.0   Max.   :214.0                                        \n",
              " NA's   :60171   NA's   :62875                                        \n",
              "    Games                Year         Season              City          \n",
              " Length:271116      Min.   :1896   Length:271116      Length:271116     \n",
              " Class :character   1st Qu.:1960   Class :character   Class :character  \n",
              " Mode  :character   Median :1988   Mode  :character   Mode  :character  \n",
              "                    Mean   :1978                                        \n",
              "                    3rd Qu.:2002                                        \n",
              "                    Max.   :2016                                        \n",
              "                                                                        \n",
              "    Sport              Event              Medal          \n",
              " Length:271116      Length:271116      Length:271116     \n",
              " Class :character   Class :character   Class :character  \n",
              " Mode  :character   Mode  :character   Mode  :character  \n",
              "                                                         \n",
              "                                                         \n",
              "                                                         \n",
              "                                                         "
            ]
          },
          "metadata": {}
        }
      ]
    },
    {
      "cell_type": "markdown",
      "source": [
        "From the above output, the mean Height of the athletes is 175.3, the mean weight of the athletes is 70.7. the mean year of the athletes is 1978 and the mean age of the athletes is 25.56."
      ],
      "metadata": {
        "id": "wRyzhp909OoU"
      }
    },
    {
      "cell_type": "code",
      "source": [
        "#Showing the number of Rows and Columns\n",
        "dim(athlete_events)\n"
      ],
      "metadata": {
        "colab": {
          "base_uri": "https://localhost:8080/",
          "height": 34
        },
        "id": "4bNdzBNT9ou2",
        "outputId": "6d77ad1a-9f16-4030-e573-f0ffc5a76573"
      },
      "execution_count": 15,
      "outputs": [
        {
          "output_type": "display_data",
          "data": {
            "text/html": [
              "<style>\n",
              ".list-inline {list-style: none; margin:0; padding: 0}\n",
              ".list-inline>li {display: inline-block}\n",
              ".list-inline>li:not(:last-child)::after {content: \"\\00b7\"; padding: 0 .5ex}\n",
              "</style>\n",
              "<ol class=list-inline><li>271116</li><li>15</li></ol>\n"
            ],
            "text/markdown": "1. 271116\n2. 15\n\n\n",
            "text/latex": "\\begin{enumerate*}\n\\item 271116\n\\item 15\n\\end{enumerate*}\n",
            "text/plain": [
              "[1] 271116     15"
            ]
          },
          "metadata": {}
        }
      ]
    },
    {
      "cell_type": "markdown",
      "source": [
        "This shows that there is 271116 Rows and 15 Columns in the provided data."
      ],
      "metadata": {
        "id": "rxzxd3Zc9wy5"
      }
    },
    {
      "cell_type": "code",
      "source": [
        "#structure of variables\n",
        "str(athlete_events)\n"
      ],
      "metadata": {
        "colab": {
          "base_uri": "https://localhost:8080/"
        },
        "id": "_6jrkGg2919_",
        "outputId": "753ca4f8-8ba2-4763-b9bb-18477707999d"
      },
      "execution_count": 16,
      "outputs": [
        {
          "output_type": "stream",
          "name": "stdout",
          "text": [
            "'data.frame':\t271116 obs. of  15 variables:\n",
            " $ ID    : int  1 2 3 4 5 5 5 5 5 5 ...\n",
            " $ Name  : chr  \"A Dijiang\" \"A Lamusi\" \"Gunnar Nielsen Aaby\" \"Edgar Lindenau Aabye\" ...\n",
            " $ Sex   : chr  \"M\" \"M\" \"M\" \"M\" ...\n",
            " $ Age   : int  24 23 24 34 21 21 25 25 27 27 ...\n",
            " $ Height: int  180 170 NA NA 185 185 185 185 185 185 ...\n",
            " $ Weight: num  80 60 NA NA 82 82 82 82 82 82 ...\n",
            " $ Team  : chr  \"China\" \"China\" \"Denmark\" \"Denmark/Sweden\" ...\n",
            " $ NOC   : chr  \"CHN\" \"CHN\" \"DEN\" \"DEN\" ...\n",
            " $ Games : chr  \"1992 Summer\" \"2012 Summer\" \"1920 Summer\" \"1900 Summer\" ...\n",
            " $ Year  : int  1992 2012 1920 1900 1988 1988 1992 1992 1994 1994 ...\n",
            " $ Season: chr  \"Summer\" \"Summer\" \"Summer\" \"Summer\" ...\n",
            " $ City  : chr  \"Barcelona\" \"London\" \"Antwerpen\" \"Paris\" ...\n",
            " $ Sport : chr  \"Basketball\" \"Judo\" \"Football\" \"Tug-Of-War\" ...\n",
            " $ Event : chr  \"Basketball Men's Basketball\" \"Judo Men's Extra-Lightweight\" \"Football Men's Football\" \"Tug-Of-War Men's Tug-Of-War\" ...\n",
            " $ Medal : chr  NA NA NA \"Gold\" ...\n"
          ]
        }
      ]
    },
    {
      "cell_type": "markdown",
      "source": [
        "###One Column Selection.\n",
        "The column selected is “Age”\n"
      ],
      "metadata": {
        "id": "gEzkVSJg95dL"
      }
    },
    {
      "cell_type": "code",
      "source": [
        "#creating a data frame\n",
        "Athlete_events=data.frame(athlete_events)\n"
      ],
      "metadata": {
        "id": "qIJOMOxQ9_e0"
      },
      "execution_count": 17,
      "outputs": []
    },
    {
      "cell_type": "code",
      "source": [
        "#10 largest values of the Column Age\n",
        "library(dplyr)\n",
        "age=select(Athlete_events,Age)\n",
        "max <- age[1:10,]\n",
        "max"
      ],
      "metadata": {
        "colab": {
          "base_uri": "https://localhost:8080/",
          "height": 34
        },
        "id": "9VHcaxOq-CHC",
        "outputId": "61bdb334-66cb-4b90-c318-9bdc12208a1c"
      },
      "execution_count": 19,
      "outputs": [
        {
          "output_type": "display_data",
          "data": {
            "text/html": [
              "<style>\n",
              ".list-inline {list-style: none; margin:0; padding: 0}\n",
              ".list-inline>li {display: inline-block}\n",
              ".list-inline>li:not(:last-child)::after {content: \"\\00b7\"; padding: 0 .5ex}\n",
              "</style>\n",
              "<ol class=list-inline><li>24</li><li>23</li><li>24</li><li>34</li><li>21</li><li>21</li><li>25</li><li>25</li><li>27</li><li>27</li></ol>\n"
            ],
            "text/markdown": "1. 24\n2. 23\n3. 24\n4. 34\n5. 21\n6. 21\n7. 25\n8. 25\n9. 27\n10. 27\n\n\n",
            "text/latex": "\\begin{enumerate*}\n\\item 24\n\\item 23\n\\item 24\n\\item 34\n\\item 21\n\\item 21\n\\item 25\n\\item 25\n\\item 27\n\\item 27\n\\end{enumerate*}\n",
            "text/plain": [
              " [1] 24 23 24 34 21 21 25 25 27 27"
            ]
          },
          "metadata": {}
        }
      ]
    },
    {
      "cell_type": "markdown",
      "source": [
        "\n",
        "After selecting the Column ‘Age’ from the data provided, the ages of the 10 oldest athletes are as follows: (24, 23, 24, 34, 21, 21, 25, 25, 27, 27)."
      ],
      "metadata": {
        "id": "MhSecy3D-T4e"
      }
    },
    {
      "cell_type": "markdown",
      "source": [
        "### Series"
      ],
      "metadata": {
        "id": "ybrPiNXv-Y0A"
      }
    },
    {
      "cell_type": "code",
      "source": [
        "#Selecting the Column; Medal\n",
        "Medal=select(Athlete_events,Medal)\n",
        "#filtering Gold Medals\n",
        "Medal_Gold=filter(Medal, Medal==\"Gold\" )\n",
        "count(Medal_Gold)"
      ],
      "metadata": {
        "colab": {
          "base_uri": "https://localhost:8080/",
          "height": 164
        },
        "id": "1dw_bKv--er1",
        "outputId": "6521351a-91b5-4635-b647-5d7d007ad215"
      },
      "execution_count": 21,
      "outputs": [
        {
          "output_type": "display_data",
          "data": {
            "text/html": [
              "<table class=\"dataframe\">\n",
              "<caption>A data.frame: 1 × 1</caption>\n",
              "<thead>\n",
              "\t<tr><th scope=col>n</th></tr>\n",
              "\t<tr><th scope=col>&lt;int&gt;</th></tr>\n",
              "</thead>\n",
              "<tbody>\n",
              "\t<tr><td>13372</td></tr>\n",
              "</tbody>\n",
              "</table>\n"
            ],
            "text/markdown": "\nA data.frame: 1 × 1\n\n| n &lt;int&gt; |\n|---|\n| 13372 |\n\n",
            "text/latex": "A data.frame: 1 × 1\n\\begin{tabular}{l}\n n\\\\\n <int>\\\\\n\\hline\n\t 13372\\\\\n\\end{tabular}\n",
            "text/plain": [
              "  n    \n",
              "1 13372"
            ]
          },
          "metadata": {}
        }
      ]
    },
    {
      "cell_type": "markdown",
      "source": [
        "This shows that the number of gold medals is 13372."
      ],
      "metadata": {
        "id": "W4qte3kM-iqQ"
      }
    },
    {
      "cell_type": "code",
      "source": [
        "#Selecting the Column; Name,Sex,Age,Medal,Team\n",
        "DD=select(Athlete_events,Name,Sex,Age,Medal,Team)\n",
        "#Filtering data\n",
        "Gender_age=filter(DD, Age==21, Medal==\"Gold\", Team==\"United States\" )\n",
        "count(Gender_age)"
      ],
      "metadata": {
        "colab": {
          "base_uri": "https://localhost:8080/",
          "height": 164
        },
        "id": "3LejEG7e-oci",
        "outputId": "442f933e-af98-4ede-a805-0db4c4928baf"
      },
      "execution_count": 25,
      "outputs": [
        {
          "output_type": "display_data",
          "data": {
            "text/html": [
              "<table class=\"dataframe\">\n",
              "<caption>A data.frame: 1 × 1</caption>\n",
              "<thead>\n",
              "\t<tr><th scope=col>n</th></tr>\n",
              "\t<tr><th scope=col>&lt;int&gt;</th></tr>\n",
              "</thead>\n",
              "<tbody>\n",
              "\t<tr><td>248</td></tr>\n",
              "</tbody>\n",
              "</table>\n"
            ],
            "text/markdown": "\nA data.frame: 1 × 1\n\n| n &lt;int&gt; |\n|---|\n| 248 |\n\n",
            "text/latex": "A data.frame: 1 × 1\n\\begin{tabular}{l}\n n\\\\\n <int>\\\\\n\\hline\n\t 248\\\\\n\\end{tabular}\n",
            "text/plain": [
              "  n  \n",
              "1 248"
            ]
          },
          "metadata": {}
        }
      ]
    },
    {
      "cell_type": "markdown",
      "source": [
        "\n",
        "The above output gives the athletes aged 21 with Gold Medals."
      ],
      "metadata": {
        "id": "KR4ovC1g-0Xe"
      }
    },
    {
      "cell_type": "code",
      "source": [
        "#selecting the columns; Name,Age,Sport,Event and Medal\n",
        "Col=select(Athlete_events,Name,Age,Sport,Event,Medal)\n",
        "#details of athletes with Gold Medals           \n",
        "Medal_Gold=filter(Col, Medal==\"Gold\" )\n",
        "head(Medal_Gold)"
      ],
      "metadata": {
        "id": "CGKnS9ME_I3P",
        "colab": {
          "base_uri": "https://localhost:8080/",
          "height": 286
        },
        "outputId": "38d037e5-151c-4fcf-c748-d198b2eee63c"
      },
      "execution_count": 26,
      "outputs": [
        {
          "output_type": "display_data",
          "data": {
            "text/html": [
              "<table class=\"dataframe\">\n",
              "<caption>A data.frame: 6 × 5</caption>\n",
              "<thead>\n",
              "\t<tr><th></th><th scope=col>Name</th><th scope=col>Age</th><th scope=col>Sport</th><th scope=col>Event</th><th scope=col>Medal</th></tr>\n",
              "\t<tr><th></th><th scope=col>&lt;chr&gt;</th><th scope=col>&lt;int&gt;</th><th scope=col>&lt;chr&gt;</th><th scope=col>&lt;chr&gt;</th><th scope=col>&lt;chr&gt;</th></tr>\n",
              "</thead>\n",
              "<tbody>\n",
              "\t<tr><th scope=row>1</th><td>Edgar Lindenau Aabye   </td><td>34</td><td>Tug-Of-War   </td><td>Tug-Of-War Men's Tug-Of-War     </td><td>Gold</td></tr>\n",
              "\t<tr><th scope=row>2</th><td>Paavo Johannes Aaltonen</td><td>28</td><td>Gymnastics   </td><td>Gymnastics Men's Team All-Around</td><td>Gold</td></tr>\n",
              "\t<tr><th scope=row>3</th><td>Paavo Johannes Aaltonen</td><td>28</td><td>Gymnastics   </td><td>Gymnastics Men's Horse Vault    </td><td>Gold</td></tr>\n",
              "\t<tr><th scope=row>4</th><td>Paavo Johannes Aaltonen</td><td>28</td><td>Gymnastics   </td><td>Gymnastics Men's Pommelled Horse</td><td>Gold</td></tr>\n",
              "\t<tr><th scope=row>5</th><td>Kjetil Andr Aamodt     </td><td>20</td><td>Alpine Skiing</td><td>Alpine Skiing Men's Super G     </td><td>Gold</td></tr>\n",
              "\t<tr><th scope=row>6</th><td>Kjetil Andr Aamodt     </td><td>30</td><td>Alpine Skiing</td><td>Alpine Skiing Men's Super G     </td><td>Gold</td></tr>\n",
              "</tbody>\n",
              "</table>\n"
            ],
            "text/markdown": "\nA data.frame: 6 × 5\n\n| <!--/--> | Name &lt;chr&gt; | Age &lt;int&gt; | Sport &lt;chr&gt; | Event &lt;chr&gt; | Medal &lt;chr&gt; |\n|---|---|---|---|---|---|\n| 1 | Edgar Lindenau Aabye    | 34 | Tug-Of-War    | Tug-Of-War Men's Tug-Of-War      | Gold |\n| 2 | Paavo Johannes Aaltonen | 28 | Gymnastics    | Gymnastics Men's Team All-Around | Gold |\n| 3 | Paavo Johannes Aaltonen | 28 | Gymnastics    | Gymnastics Men's Horse Vault     | Gold |\n| 4 | Paavo Johannes Aaltonen | 28 | Gymnastics    | Gymnastics Men's Pommelled Horse | Gold |\n| 5 | Kjetil Andr Aamodt      | 20 | Alpine Skiing | Alpine Skiing Men's Super G      | Gold |\n| 6 | Kjetil Andr Aamodt      | 30 | Alpine Skiing | Alpine Skiing Men's Super G      | Gold |\n\n",
            "text/latex": "A data.frame: 6 × 5\n\\begin{tabular}{r|lllll}\n  & Name & Age & Sport & Event & Medal\\\\\n  & <chr> & <int> & <chr> & <chr> & <chr>\\\\\n\\hline\n\t1 & Edgar Lindenau Aabye    & 34 & Tug-Of-War    & Tug-Of-War Men's Tug-Of-War      & Gold\\\\\n\t2 & Paavo Johannes Aaltonen & 28 & Gymnastics    & Gymnastics Men's Team All-Around & Gold\\\\\n\t3 & Paavo Johannes Aaltonen & 28 & Gymnastics    & Gymnastics Men's Horse Vault     & Gold\\\\\n\t4 & Paavo Johannes Aaltonen & 28 & Gymnastics    & Gymnastics Men's Pommelled Horse & Gold\\\\\n\t5 & Kjetil Andr Aamodt      & 20 & Alpine Skiing & Alpine Skiing Men's Super G      & Gold\\\\\n\t6 & Kjetil Andr Aamodt      & 30 & Alpine Skiing & Alpine Skiing Men's Super G      & Gold\\\\\n\\end{tabular}\n",
            "text/plain": [
              "  Name                    Age Sport         Event                           \n",
              "1 Edgar Lindenau Aabye    34  Tug-Of-War    Tug-Of-War Men's Tug-Of-War     \n",
              "2 Paavo Johannes Aaltonen 28  Gymnastics    Gymnastics Men's Team All-Around\n",
              "3 Paavo Johannes Aaltonen 28  Gymnastics    Gymnastics Men's Horse Vault    \n",
              "4 Paavo Johannes Aaltonen 28  Gymnastics    Gymnastics Men's Pommelled Horse\n",
              "5 Kjetil Andr Aamodt      20  Alpine Skiing Alpine Skiing Men's Super G     \n",
              "6 Kjetil Andr Aamodt      30  Alpine Skiing Alpine Skiing Men's Super G     \n",
              "  Medal\n",
              "1 Gold \n",
              "2 Gold \n",
              "3 Gold \n",
              "4 Gold \n",
              "5 Gold \n",
              "6 Gold "
            ]
          },
          "metadata": {}
        }
      ]
    },
    {
      "cell_type": "markdown",
      "source": [
        "The above output entails Athletes with Gold Medals."
      ],
      "metadata": {
        "id": "5kytTu-a_Hvk"
      }
    },
    {
      "cell_type": "code",
      "source": [
        "Team=select(Athlete_events,Team)\n",
        "United_states=filter(Team, Team==\"United States\")\n",
        "count(United_states)"
      ],
      "metadata": {
        "colab": {
          "base_uri": "https://localhost:8080/",
          "height": 164
        },
        "id": "MpgIGFpO_VHL",
        "outputId": "4277bf1c-ef9c-4440-bf2e-f5f65cd13e96"
      },
      "execution_count": 27,
      "outputs": [
        {
          "output_type": "display_data",
          "data": {
            "text/html": [
              "<table class=\"dataframe\">\n",
              "<caption>A data.frame: 1 × 1</caption>\n",
              "<thead>\n",
              "\t<tr><th scope=col>n</th></tr>\n",
              "\t<tr><th scope=col>&lt;int&gt;</th></tr>\n",
              "</thead>\n",
              "<tbody>\n",
              "\t<tr><td>17847</td></tr>\n",
              "</tbody>\n",
              "</table>\n"
            ],
            "text/markdown": "\nA data.frame: 1 × 1\n\n| n &lt;int&gt; |\n|---|\n| 17847 |\n\n",
            "text/latex": "A data.frame: 1 × 1\n\\begin{tabular}{l}\n n\\\\\n <int>\\\\\n\\hline\n\t 17847\\\\\n\\end{tabular}\n",
            "text/plain": [
              "  n    \n",
              "1 17847"
            ]
          },
          "metadata": {}
        }
      ]
    },
    {
      "cell_type": "markdown",
      "source": [
        "From the above printouts, it is clear that there is 13372 Gold Medals in the provided data, athletes aged 21 are given gold medals and that there are 17847 athletes from the United States. It is clear that this will help Kellogg’s find out the right athletes that it will sponsor during the Olympic games and also knowing the total number of athletes in The United States. "
      ],
      "metadata": {
        "id": "olEpWYeH_Zeh"
      }
    },
    {
      "cell_type": "markdown",
      "source": [
        "###Plot.\n",
        "The plot created is a histogram.\n"
      ],
      "metadata": {
        "id": "tEtqLQvd_fn9"
      }
    },
    {
      "cell_type": "code",
      "source": [
        "Age=select(Athlete_events,Age)\n",
        "#create histogram of values for price\n",
        "library(ggplot2)\n",
        "ggplot(data=Age, aes(x=Age)) + geom_histogram(fill=\"steelblue\", color=\"black\") + ggtitle(\"Histogram of Age\")\n"
      ],
      "metadata": {
        "colab": {
          "base_uri": "https://localhost:8080/",
          "height": 510
        },
        "id": "QhrBNW1U_miz",
        "outputId": "3ae3c723-4064-4610-9b5f-8f183fc1e976"
      },
      "execution_count": 32,
      "outputs": [
        {
          "output_type": "stream",
          "name": "stderr",
          "text": [
            "`stat_bin()` using `bins = 30`. Pick better value with `binwidth`.\n",
            "\n",
            "Warning message:\n",
            "“Removed 9474 rows containing non-finite values (stat_bin).”\n"
          ]
        },
        {
          "output_type": "display_data",
          "data": {
            "text/plain": [
              "plot without title"
            ],
            "image/png": "[encoded data removed]"
          },
          "metadata": {
            "image/png": {
              "width": 420,
              "height": 420
            }
          }
        }
      ]
    },
    {
      "cell_type": "markdown",
      "source": [
        "The above Histogram shows the count of ages from the athlete data. We are able to see that athletes with the ages between 20 and 30 are the majority"
      ],
      "metadata": {
        "id": "NIP9f0rN_tAK"
      }
    },
    {
      "cell_type": "markdown",
      "source": [
        "#Summary\n",
        "In order for Kellogg to sponsor the right sport, a research analysis on the sport is required. This research analysis aims at identifying the right sport for them to sponsor. The study will involve checking on the sports that will participate in the Olympics and analyzing them in details to get the one with the highest value of good returns. To determine which sport is best suited to sponsor, the study will study the different sports and their evolution with time. It will look at different sports from different geographical area and the record their hold. \n",
        "Also, the study will involve analyzing the athletes who will take part in the Olympic. The best athlete will be pinpointed which the company can decide to sponsor. The study will compare the different character traits of the athletes to make a defined conclusion. This will include things such as the awards the athletes have one, their country of origin, their physical statures, age and sex. The study will analyze the number of medals each athlete has gained and their age to give a better analysis.\n",
        "The analysis will include some data exploration to describe the provided data. Data visualization will also be conducted. At the end recommendations to the company’s executives regarding the athlete to sponsor will be provided. The right choice will as a result aid the company positively in many sectors. Kellogg’s will be able to develop a halo effect with their customer base and also encourage brand loyalty.\n"
      ],
      "metadata": {
        "id": "76cCnSW1AVo5"
      }
    },
    {
      "cell_type": "markdown",
      "source": [
        "##Recommendations. \n",
        "Using the Output from the analysis above I would like to recommend the executive to put into consideration the 248 Candidates who come from United States, Aged 21 and with Gold Medal. This will strengthen the relationship of their customers.\n"
      ],
      "metadata": {
        "id": "_03Fpl__Ae7o"
      }
    }
  ]
}